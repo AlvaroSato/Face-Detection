{
 "cells": [
  {
   "cell_type": "markdown",
   "id": "4659b7d0",
   "metadata": {},
   "source": [
    "# Imports"
   ]
  },
  {
   "cell_type": "code",
   "execution_count": 1,
   "id": "ebc56ace",
   "metadata": {},
   "outputs": [],
   "source": [
    "import os\n",
    "import cv2\n",
    "import matplotlib.pyplot as plt"
   ]
  },
  {
   "cell_type": "markdown",
   "id": "30f2b73e",
   "metadata": {},
   "source": [
    "# Paths"
   ]
  },
  {
   "cell_type": "markdown",
   "id": "3899a504",
   "metadata": {},
   "source": [
    "### Default images"
   ]
  },
  {
   "cell_type": "code",
   "execution_count": 5,
   "id": "7d8d820d",
   "metadata": {},
   "outputs": [],
   "source": [
    "frontal = \"../Dataset/Frontal/\"\n",
    "frontalPath = os.listdir(frontal)\n",
    "\n",
    "nFrontal = \"../Dataset/Nao Frontal/\"\n",
    "nFrontalPath = os.listdir(nFrontal)\n",
    "\n",
    "sorriso = \"../Dataset/Sorriso/\"\n",
    "sorrisoPath = os.listdir(sorriso)\n",
    "\n",
    "crianca = \"../Dataset/Crianca/\"\n",
    "criancaPath = os.listdir(crianca)\n",
    "\n",
    "oclusao = \"../Dataset/Oclusao/\"\n",
    "oclusaoPath = os.listdir(oclusao)\n",
    "\n",
    "grupo = \"../Dataset/Grupo/\"\n",
    "grupoPath = os.listdir(grupo)"
   ]
  },
  {
   "cell_type": "markdown",
   "id": "65c7680f",
   "metadata": {},
   "source": [
    "### Noise images"
   ]
  },
  {
   "cell_type": "code",
   "execution_count": 6,
   "id": "d9f217fa",
   "metadata": {},
   "outputs": [],
   "source": [
    "frontalNoise = \"../Dataset/Frontal - Ruido/\"\n",
    "frontalNoisePath = os.listdir(frontalNoise)\n",
    "\n",
    "nFrontalNoise = \"../Dataset/Nao Frontal - Ruido/\"\n",
    "nFrontalNoisePath = os.listdir(nFrontalNoise)\n",
    "\n",
    "sorrisoNoise = \"../Dataset/Sorriso - Ruido/\"\n",
    "sorrisoNoisePath = os.listdir(sorrisoNoise)\n",
    "\n",
    "criancaNoise = \"../Dataset/Crianca - Ruido/\"\n",
    "criancaNoisePath = os.listdir(criancaNoise)\n",
    "\n",
    "oclusaoNoise = \"../Dataset/Oclusao - Ruido/\"\n",
    "oclusaoNoisePath = os.listdir(oclusaoNoise)\n",
    "\n",
    "grupoNoise = \"../Dataset/Grupo - Ruido/\"\n",
    "grupoNoisePath = os.listdir(grupoNoise)"
   ]
  },
  {
   "cell_type": "markdown",
   "id": "9d5cbb86",
   "metadata": {},
   "source": [
    "### Bright change image"
   ]
  },
  {
   "cell_type": "code",
   "execution_count": 7,
   "id": "e216331f",
   "metadata": {},
   "outputs": [],
   "source": [
    "frontalMoreBright = \"../Dataset/Frontal - Mais Brilho/\"\n",
    "frontalMoreBrightPath = os.listdir(frontalMoreBright)\n",
    "\n",
    "nFrontalMoreBright = \"../Dataset/Nao Frontal - Mais Brilho/\"\n",
    "nFrontalMoreBrightPath = os.listdir(nFrontalMoreBright)\n",
    "\n",
    "sorrisoMoreBright = \"../Dataset/Sorriso - Mais Brilho/\"\n",
    "sorrisoMoreBrightPath = os.listdir(sorrisoMoreBright)\n",
    "\n",
    "criancaMoreBright = \"../Dataset/Crianca - Mais Brilho/\"\n",
    "criancaMoreBrightPath = os.listdir(criancaMoreBright)\n",
    "\n",
    "oclusaoMoreBright = \"../Dataset/Oclusao - Mais Brilho/\"\n",
    "oclusaoMoreBrightPath = os.listdir(oclusaoMoreBright)\n",
    "\n",
    "grupoMoreBright = \"../Dataset/Grupo - Mais Brilho/\"\n",
    "grupoMoreBrightPath = os.listdir(grupoMoreBright)\n",
    "\n",
    "#-=-=-=-=-=-=-=-=-=-=-=-=-=-=-=-=-=-=-=-=-=-=-=-=-=-=-=-=-=-=-=-=-=-=-=-=-=-=-=-=-=-=-=-=-=-=-=-=-=-=-=-=-=-=-=-=-=-=-=-=-=-\n",
    "\n",
    "frontalLessBright = \"../Dataset/Frontal - Menos Brilho/\"\n",
    "frontalLessBrightPath = os.listdir(frontalLessBright)\n",
    "\n",
    "nFrontalLessBright = \"../Dataset/Nao Frontal - Menos Brilho/\"\n",
    "nFrontalLessBrightPath = os.listdir(nFrontalLessBright)\n",
    "\n",
    "sorrisoLessBright = \"../Dataset/Sorriso - Menos Brilho/\"\n",
    "sorrisoLessBrightPath = os.listdir(sorrisoLessBright)\n",
    "\n",
    "criancaLessBright = \"../Dataset/Crianca - Menos Brilho/\"\n",
    "criancaLessBrightPath = os.listdir(criancaLessBright)\n",
    "\n",
    "oclusaoLessBright = \"../Dataset/Oclusao - Menos Brilho/\"\n",
    "oclusaoLessBrightPath = os.listdir(oclusaoLessBright)\n",
    "\n",
    "grupoLessBright = \"../Dataset/Grupo - Menos Brilho/\"\n",
    "grupoLessBrightPath = os.listdir(grupoLessBright)"
   ]
  },
  {
   "cell_type": "markdown",
   "id": "f2006368",
   "metadata": {},
   "source": [
    "### Results paths"
   ]
  },
  {
   "cell_type": "code",
   "execution_count": 8,
   "id": "c766e3c4",
   "metadata": {},
   "outputs": [],
   "source": [
    "frontalResult = \"../Results/Frontal/\"\n",
    "\n",
    "nFrontalResult = \"../Results/Nao-Frontal/\"\n",
    "\n",
    "sorrisoResult = \"../Results/Sorriso/\"\n",
    "\n",
    "criancaResult = \"../Results/Crianca/\"\n",
    "\n",
    "oclusaoResult = \"../Results/Oclusao/\"\n",
    "\n",
    "grupoResult = \"../Results/Grupo/\""
   ]
  },
  {
   "cell_type": "markdown",
   "id": "6afcb3bd",
   "metadata": {},
   "source": [
    "### Graphics"
   ]
  },
  {
   "cell_type": "code",
   "execution_count": 9,
   "id": "b173432b",
   "metadata": {},
   "outputs": [],
   "source": [
    "frontalGraph = \"../Graficos/Frontal/\"\n",
    "\n",
    "nFrontalGraph = \"../Graficos/Nao Frontal/\"\n",
    "\n",
    "sorrisoGraph = \"../Graficos/Sorriso/\"\n",
    "\n",
    "criancaGraph = \"../Graficos/Crianca/\"\n",
    "\n",
    "oclusaoGraph = \"../Graficos/Oclusao/\"\n",
    "\n",
    "grupoGraph = \"../Graficos/Grupo/\""
   ]
  },
  {
   "cell_type": "markdown",
   "id": "9d3c32ec",
   "metadata": {},
   "source": [
    "# Paths List"
   ]
  },
  {
   "cell_type": "code",
   "execution_count": 10,
   "id": "710a9c0b",
   "metadata": {},
   "outputs": [],
   "source": [
    "defaultPaths = [[frontal, frontalPath], [nFrontal, nFrontalPath], [sorriso, sorrisoPath], \n",
    "                [crianca, criancaPath], [oclusao, oclusaoPath], [grupo, grupoPath]]\n",
    "\n",
    "noisePaths = [[frontalNoise, frontalNoisePath], [nFrontalNoise, nFrontalNoisePath], [sorrisoNoise, sorrisoNoisePath], \n",
    "                [criancaNoise, criancaNoisePath], [oclusaoNoise, oclusaoNoisePath], [grupoNoise, grupoNoisePath]]\n",
    "\n",
    "moreBrightPaths = [[frontalMoreBright, frontalMoreBrightPath], [nFrontalMoreBright, nFrontalMoreBrightPath], \n",
    "                   [sorrisoMoreBright, sorrisoMoreBrightPath], [criancaMoreBright, criancaMoreBrightPath], \n",
    "                   [oclusaoMoreBright, oclusaoMoreBrightPath], [grupoMoreBright, grupoMoreBrightPath]]\n",
    "\n",
    "lessBrightPaths = [[frontalLessBright, frontalLessBrightPath], [nFrontalLessBright, nFrontalLessBrightPath], \n",
    "                   [sorrisoLessBright, sorrisoLessBrightPath], [criancaLessBright, criancaLessBrightPath], \n",
    "                   [oclusaoLessBright, oclusaoLessBrightPath], [grupoLessBright, grupoLessBrightPath]]"
   ]
  },
  {
   "cell_type": "markdown",
   "id": "7c0cb781",
   "metadata": {},
   "source": [
    "# Function"
   ]
  },
  {
   "cell_type": "markdown",
   "id": "30c302db",
   "metadata": {},
   "source": [
    "### Open image"
   ]
  },
  {
   "cell_type": "code",
   "execution_count": 18,
   "id": "18e7e636",
   "metadata": {},
   "outputs": [],
   "source": [
    "def loadImg(path):\n",
    "    image = cv2.imread(path)\n",
    "    image = cv2.cvtColor(image, cv2.COLOR_BGR2RGB)\n",
    "    return image"
   ]
  },
  {
   "cell_type": "markdown",
   "id": "79237c10",
   "metadata": {},
   "source": [
    "### Make graph"
   ]
  },
  {
   "cell_type": "code",
   "execution_count": 3,
   "id": "2dee9537",
   "metadata": {},
   "outputs": [],
   "source": [
    "def makeGraph(normal, noise, moreB, lessB, type, path):\n",
    "    x = [\"Normal\", \"Ruido\", \"+ Brilho\", \"- Brilho\"]\n",
    "    y = [normal.getDetectedFaces(), noise.getDetectedFaces(), moreB.getDetectedFaces(), lessB.getDetectedFaces()]\n",
    "    plt.bar(x, y)\n",
    "    plt.xticks(x)\n",
    "    plt.title(\"Viola Jones - \" + str(type) + \" Comparison\")\n",
    "    plt.savefig(path + \"Viola Jones - \" + str(type) + \".jpg\")\n",
    "    plt.clf()"
   ]
  },
  {
   "cell_type": "markdown",
   "id": "1debe4df",
   "metadata": {},
   "source": [
    "### Save Results"
   ]
  },
  {
   "cell_type": "code",
   "execution_count": null,
   "id": "69de1e13",
   "metadata": {},
   "outputs": [],
   "source": [
    "def saveResults(image, imageType):\n",
    "    for i, img in enumerate(image):\n",
    "        imageTypeSplit = imageType.split(\" - \")\n",
    "        img = cv2.cvtColor(img, cv2.COLOR_BGR2RGB)\n",
    "        if(len(imageTypeSplit) == 1):\n",
    "            if(imageTypeSplit[0] == \"Frontal\"):\n",
    "                cv2.imwrite(frontalResult + \"SSD/Normal/\" + str(i) + \".jpg\", img)\n",
    "\n",
    "            elif(imageTypeSplit[0] == \"Nao Frontal\"):\n",
    "                cv2.imwrite(nFrontalResult + \"SSD/Normal/\" + str(i) + \".jpg\", img)\n",
    "\n",
    "            elif(imageTypeSplit[0] == \"Crianca\"):\n",
    "                cv2.imwrite(criancaResult + \"SSD/Normal/\" + str(i) + \".jpg\", img)\n",
    "\n",
    "            elif(imageTypeSplit[0] == \"Oclusao\"):\n",
    "                cv2.imwrite(oclusaoResult + \"SSD/Normal/\" + str(i) + \".jpg\", img)\n",
    "\n",
    "            elif(imageTypeSplit[0] == \"Sorriso\"):\n",
    "                cv2.imwrite(sorrisoResult + \"SSD/Normal/\" + str(i) + \".jpg\", img)\n",
    "\n",
    "            elif(imageTypeSplit[0] == \"Grupo\"):\n",
    "                cv2.imwrite(grupoResult + \"SSD/Normal/\" + str(i) + \".jpg\", img)\n",
    "        \n",
    "        else:\n",
    "            if(imageTypeSplit[1] == \"Mais Brilho\"):\n",
    "                imageTypeSplit[1] = \"Mais-Brilho\"\n",
    "            if(imageTypeSplit[1] == \"Menos Brilho\"):\n",
    "                imageTypeSplit[1] = \"Menos-Brilho\"\n",
    "            if(imageTypeSplit[0] == \"Frontal\"):\n",
    "                cv2.imwrite(frontalResult + \"SSD/\" + str(imageTypeSplit[1]) + \"/\" + str(i) + \".jpg\", img)\n",
    "\n",
    "            elif(imageTypeSplit[0] == \"Nao Frontal\"):\n",
    "                cv2.imwrite(nFrontalResult + \"SSD/\" + str(imageTypeSplit[1]) + \"/\" + str(i) + \".jpg\", img)\n",
    "\n",
    "            elif(imageTypeSplit[0] == \"Crianca\"):\n",
    "                cv2.imwrite(criancaResult + \"SSD/\" + str(imageTypeSplit[1]) + \"/\" + str(i) + \".jpg\", img)\n",
    "\n",
    "            elif(imageTypeSplit[0] == \"Oclusao\"):\n",
    "                cv2.imwrite(oclusaoResult + \"SSD/\" + str(imageTypeSplit[1]) + \"/\" + str(i) + \".jpg\", img)\n",
    "\n",
    "            elif(imageTypeSplit[0] == \"Sorriso\"):\n",
    "                cv2.imwrite(sorrisoResult + \"SSD/\" + str(imageTypeSplit[1]) + \"/\" + str(i) + \".jpg\", img)\n",
    "\n",
    "            elif(imageTypeSplit[0] == \"Grupo\"):\n",
    "                cv2.imwrite(grupoResult + \"SSD/\" + str(imageTypeSplit[1]) + \"/\" + str(i) + \".jpg\", img)\n",
    "        \n"
   ]
  },
  {
   "cell_type": "code",
   "execution_count": null,
   "id": "572c5187",
   "metadata": {},
   "outputs": [],
   "source": []
  }
 ],
 "metadata": {
  "kernelspec": {
   "display_name": "Python 3 (ipykernel)",
   "language": "python",
   "name": "python3"
  },
  "language_info": {
   "codemirror_mode": {
    "name": "ipython",
    "version": 3
   },
   "file_extension": ".py",
   "mimetype": "text/x-python",
   "name": "python",
   "nbconvert_exporter": "python",
   "pygments_lexer": "ipython3",
   "version": "3.8.0"
  }
 },
 "nbformat": 4,
 "nbformat_minor": 5
}
